{
 "cells": [
  {
   "cell_type": "code",
   "execution_count": 1,
   "id": "87558ac8",
   "metadata": {},
   "outputs": [],
   "source": [
    "weights = [0.1, 0.2, 0]"
   ]
  },
  {
   "cell_type": "code",
   "execution_count": 2,
   "id": "3c6932a3",
   "metadata": {},
   "outputs": [],
   "source": [
    "def w_sum(a, b):\n",
    "    assert(len(a) == len(b))\n",
    "    output = 0\n",
    "    for i in range(len(a)):\n",
    "        output += (a[i] * b[i])\n",
    "    return output"
   ]
  },
  {
   "cell_type": "code",
   "execution_count": 3,
   "id": "3494dc1f",
   "metadata": {},
   "outputs": [],
   "source": [
    "def neural_network(input, weights):\n",
    "    pred = w_sum(input, weights)\n",
    "    return pred"
   ]
  },
  {
   "cell_type": "code",
   "execution_count": 4,
   "id": "633b8bbe",
   "metadata": {},
   "outputs": [],
   "source": [
    "toes = [8.5, 9.5, 9.9, 9,.0]\n",
    "wlrec = [0.65, 0.8, 0.8, 0.9]\n",
    "nfans = [1.2, 1.3, 0.5, 1.0]"
   ]
  },
  {
   "cell_type": "code",
   "execution_count": 5,
   "id": "500d63b7",
   "metadata": {},
   "outputs": [],
   "source": [
    "input = [toes[0], wlrec[0], nfans[0]]"
   ]
  },
  {
   "cell_type": "code",
   "execution_count": 6,
   "id": "5dc6bb6c",
   "metadata": {},
   "outputs": [],
   "source": [
    "pred = neural_network(input, weights)"
   ]
  },
  {
   "cell_type": "code",
   "execution_count": 8,
   "id": "0c00a8e7",
   "metadata": {},
   "outputs": [
    {
     "name": "stdout",
     "output_type": "stream",
     "text": [
      "0.9800000000000001\n"
     ]
    }
   ],
   "source": [
    "print(pred)"
   ]
  },
  {
   "cell_type": "code",
   "execution_count": null,
   "id": "798cd007",
   "metadata": {},
   "outputs": [],
   "source": []
  }
 ],
 "metadata": {
  "kernelspec": {
   "display_name": "Python 3 (ipykernel)",
   "language": "python",
   "name": "python3"
  },
  "language_info": {
   "codemirror_mode": {
    "name": "ipython",
    "version": 3
   },
   "file_extension": ".py",
   "mimetype": "text/x-python",
   "name": "python",
   "nbconvert_exporter": "python",
   "pygments_lexer": "ipython3",
   "version": "3.9.16"
  }
 },
 "nbformat": 4,
 "nbformat_minor": 5
}
