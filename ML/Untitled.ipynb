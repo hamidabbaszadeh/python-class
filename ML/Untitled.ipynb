{
 "cells": [
  {
   "cell_type": "code",
   "execution_count": 1,
   "id": "19a5c7f1",
   "metadata": {},
   "outputs": [],
   "source": [
    "weight = 0.1"
   ]
  },
  {
   "cell_type": "code",
   "execution_count": 2,
   "id": "5b371199",
   "metadata": {},
   "outputs": [],
   "source": [
    "def neural_network(input, weight):\n",
    "    prediction = input * weight;\n",
    "    return prediction"
   ]
  },
  {
   "cell_type": "code",
   "execution_count": 3,
   "id": "c391e69b",
   "metadata": {},
   "outputs": [],
   "source": [
    "number_of_toes = [8.5,9.5,10,9]"
   ]
  },
  {
   "cell_type": "code",
   "execution_count": 4,
   "id": "4652fce0",
   "metadata": {},
   "outputs": [],
   "source": [
    "input = number_of_toes[0]"
   ]
  },
  {
   "cell_type": "code",
   "execution_count": 5,
   "id": "b94349a8",
   "metadata": {},
   "outputs": [],
   "source": [
    "pred = neural_network(input, weight)"
   ]
  },
  {
   "cell_type": "code",
   "execution_count": 6,
   "id": "877731d2",
   "metadata": {},
   "outputs": [
    {
     "name": "stdout",
     "output_type": "stream",
     "text": [
      "0.8500000000000001\n"
     ]
    }
   ],
   "source": [
    "print(pred)"
   ]
  },
  {
   "cell_type": "code",
   "execution_count": null,
   "id": "3b4d5fe2",
   "metadata": {},
   "outputs": [],
   "source": []
  }
 ],
 "metadata": {
  "kernelspec": {
   "display_name": "Python 3 (ipykernel)",
   "language": "python",
   "name": "python3"
  },
  "language_info": {
   "codemirror_mode": {
    "name": "ipython",
    "version": 3
   },
   "file_extension": ".py",
   "mimetype": "text/x-python",
   "name": "python",
   "nbconvert_exporter": "python",
   "pygments_lexer": "ipython3",
   "version": "3.9.16"
  }
 },
 "nbformat": 4,
 "nbformat_minor": 5
}
